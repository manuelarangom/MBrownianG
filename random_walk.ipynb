{
  "nbformat": 4,
  "nbformat_minor": 0,
  "metadata": {
    "colab": {
      "name": "random_walk.ipynb",
      "provenance": [],
      "collapsed_sections": [],
      "authorship_tag": "ABX9TyOyxuNAolxY77AO+A4XTcg2",
      "include_colab_link": true
    },
    "kernelspec": {
      "name": "python3",
      "display_name": "Python 3"
    }
  },
  "cells": [
    {
      "cell_type": "markdown",
      "metadata": {
        "id": "view-in-github",
        "colab_type": "text"
      },
      "source": [
        "<a href=\"https://colab.research.google.com/github/manuelarangom/MBrownianG/blob/master/random_walk.ipynb\" target=\"_parent\"><img src=\"https://colab.research.google.com/assets/colab-badge.svg\" alt=\"Open In Colab\"/></a>"
      ]
    },
    {
      "cell_type": "code",
      "metadata": {
        "id": "y98ZVgOfxlBA",
        "colab_type": "code",
        "colab": {}
      },
      "source": [
        "import io\n",
        "import requests\n",
        "import numpy as np\n",
        "import pandas as pd\n",
        "import matplotlib.pyplot as plt"
      ],
      "execution_count": 0,
      "outputs": []
    },
    {
      "cell_type": "code",
      "metadata": {
        "id": "OoUcdn6vawDV",
        "colab_type": "code",
        "colab": {}
      },
      "source": [
        "# PARÁMETROS\n",
        "\n",
        "ticker = input( 'Ticker: ' )\n",
        "days = int( input( 'Days: ' ) )\n",
        "scenarios = int( input( 'Scenarios: ' ) )"
      ],
      "execution_count": 0,
      "outputs": []
    },
    {
      "cell_type": "code",
      "metadata": {
        "id": "e8hGDHGVx8xG",
        "colab_type": "code",
        "colab": {}
      },
      "source": [
        "# CONSULTAR HISTÓRICO DE PRECIOS DE ALPHAVANTAGE\n",
        "\n",
        "def get_prices(ticker):\n",
        "\n",
        "  data = \"\"\n",
        "  url = 'https://www.alphavantage.co/query?function=TIME_SERIES_DAILY&symbol={mnemo}&outputsize=full&apikey=YOURALPHAVANTAGEAPIHERE'.format(mnemo=ticker)\n",
        "  response = requests.get(url,data=data)\n",
        "  datos = response.json()\n",
        "  stock_history = pd.DataFrame([ (k,float(v['1. open']),float(v['2. high']),float(v['3. low']),float(v['4. close']),int(v['5. volume'])) for k,v in datos['Time Series (Daily)'].items()], columns = ['Date','Open','High','Low','Close','Volume'])\n",
        "  return stock_history"
      ],
      "execution_count": 0,
      "outputs": []
    },
    {
      "cell_type": "code",
      "metadata": {
        "id": "-DXskDLYyaOq",
        "colab_type": "code",
        "colab": {}
      },
      "source": [
        "# CALCULAR RENDIMIENTOS LOGARÍTMICOS\n",
        "\n",
        "def get_log_returns(full_data):\n",
        "\n",
        "  log_returns = []\n",
        "  [ log_returns.append(np.log( full_data['Close'][p] / full_data['Close'][ p+1 ] )) for p in range(0, len( full_data )-1 )]\n",
        "  \n",
        "  return log_returns"
      ],
      "execution_count": 0,
      "outputs": []
    },
    {
      "cell_type": "code",
      "metadata": {
        "id": "8Tqj-boIPM66",
        "colab_type": "code",
        "colab": {}
      },
      "source": [
        "# CALCULAR REDIMIENTO PROMEDIO Y DESVIACIÓN ESTÁNDAR ANUALES SOBRE LOS RENDIMIENTOS\n",
        "\n",
        "def stock_features(log_returns,tf):\n",
        "\n",
        "  stock_features = {\n",
        "\n",
        "    'avg_return':(sum(log_returns) / len(log_returns)) * int(tf),\n",
        "    'std_return':np.std(log_returns) * np.sqrt(int(tf))\n",
        "\n",
        "  }\n",
        "\n",
        "  return stock_features"
      ],
      "execution_count": 0,
      "outputs": []
    },
    {
      "cell_type": "code",
      "metadata": {
        "id": "_sfD_nZY0mHu",
        "colab_type": "code",
        "colab": {}
      },
      "source": [
        "historic_prices = get_prices( ticker )"
      ],
      "execution_count": 0,
      "outputs": []
    },
    {
      "cell_type": "code",
      "metadata": {
        "id": "YRLcxaqMZFY9",
        "colab_type": "code",
        "colab": {}
      },
      "source": [
        "logarithmic_returns = get_log_returns(historic_prices)"
      ],
      "execution_count": 0,
      "outputs": []
    },
    {
      "cell_type": "code",
      "metadata": {
        "id": "VKPWzvmxZGXC",
        "colab_type": "code",
        "colab": {}
      },
      "source": [
        "stock_features = stock_features(logarithmic_returns,days)"
      ],
      "execution_count": 0,
      "outputs": []
    },
    {
      "cell_type": "markdown",
      "metadata": {
        "id": "rqDX_r12naUj",
        "colab_type": "text"
      },
      "source": [
        "Random Walk"
      ]
    },
    {
      "cell_type": "code",
      "metadata": {
        "id": "ZRD-9uyjeoBT",
        "colab_type": "code",
        "colab": {}
      },
      "source": [
        "import random\n",
        "import scipy.stats as st\n",
        "import math\n",
        "\n",
        "random_prices = np.zeros((days,scenarios))\n",
        "\n",
        "for esc in range(0,scenarios):\n",
        "\n",
        "  random_prices[0][esc] = historic_prices['Close'][0]\n",
        "\n",
        "  for dia in range(1,days):\n",
        "\n",
        "    random_prices[dia][esc] = round( random_prices[dia-1][esc]* math.exp( ( stock_features['avg_return']-stock_features['std_return']**2 / 2 ) * (1/days) + stock_features['std_return']*(1/(days)**(1/2) ) * st.norm.ppf( random.uniform(0,1) ) ) , 2 )"
      ],
      "execution_count": 0,
      "outputs": []
    },
    {
      "cell_type": "code",
      "metadata": {
        "id": "Gxvtm0xKexwz",
        "colab_type": "code",
        "colab": {}
      },
      "source": [
        "random_prices = pd.DataFrame(random_prices)\n",
        "random_prices"
      ],
      "execution_count": 0,
      "outputs": []
    },
    {
      "cell_type": "code",
      "metadata": {
        "id": "vv6GfcigXqyd",
        "colab_type": "code",
        "colab": {}
      },
      "source": [
        "pr = random_prices.loc[200:200]\n",
        "print(pr.sum(axis=1)/len(pr.keys()))"
      ],
      "execution_count": 0,
      "outputs": []
    },
    {
      "cell_type": "code",
      "metadata": {
        "id": "uLZc4frhpeZi",
        "colab_type": "code",
        "colab": {}
      },
      "source": [
        "x = list(range(0,252))\n",
        "\n",
        "figure = plt.figure(num=None, figsize=(20, 6), dpi=80, facecolor='w', edgecolor='g')\n",
        "axes = figure.add_axes([2,2,2,2])\n",
        "\n",
        "for k in random_prices.keys():\n",
        "  axes.plot(x, random_prices[k])\n",
        "\n",
        "\n",
        "axes.set_xlabel('Price')\n",
        "axes.set_ylabel('Time')\n",
        "axes.set_title('Possible Scenarios')"
      ],
      "execution_count": 0,
      "outputs": []
    },
    {
      "cell_type": "code",
      "metadata": {
        "id": "cXR4mYvdFzvq",
        "colab_type": "code",
        "colab": {}
      },
      "source": [
        ""
      ],
      "execution_count": 0,
      "outputs": []
    }
  ]
}